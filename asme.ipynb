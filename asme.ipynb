{
 "cells": [
  {
   "cell_type": "raw",
   "metadata": {},
   "source": [
    "---\n",
    "title: 'ASME House prices: Detailed EDA and Regression Techniques'\n",
    "author: \"Chetana Katpally\"\n",
    "output:\n",
    "  html_document:\n",
    "    code_folding: show\n",
    "    df_print: paged\n",
    "    highlight: tango\n",
    "    number_sections: yes\n",
    "    theme: paper\n",
    "    toc: yes\n",
    "    toc_depth: 3\n",
    "    toc_float:\n",
    "      collapsed: no\n",
    "      smooth_scroll: yes\n",
    "---"
   ]
  },
  {
   "cell_type": "code",
   "execution_count": null,
   "metadata": {
    "hide_output": true,
    "lines_to_next_cell": 0,
    "name": "setup"
   },
   "outputs": [],
   "source": [
    "knitr::opts_chunk$set(echo = TRUE, comment=NA)"
   ]
  },
  {
   "cell_type": "markdown",
   "metadata": {
    "lines_to_next_cell": 0
   },
   "source": [
    "#Executive Summary\n",
    "### Check for outliers in saleprice, and complete one-hot-encoding. Then delete the variables that were one-hot encoded\n",
    "#Introduction \n",
    "\n",
    "## Competition description\n",
    "\n",
    "The description is at this link - https://www.kaggle.com/c/house-prices-advanced-regression-techniques\n",
    "\n",
    "# Exploratory Data Analysis\n",
    "\n",
    "## Loading required libraries\n",
    "\n",
    "Loading required libraries into R workspace"
   ]
  },
  {
   "cell_type": "code",
   "execution_count": null,
   "metadata": {
    "lines_to_next_cell": 2,
    "message": false,
    "warning": false
   },
   "outputs": [],
   "source": [
    "library(knitr)\n",
    "library(DataExplorer) #For data exploration \n",
    "library(DescTools)\n",
    "library(psych)  # describe()\n",
    "library(plyr)\n",
    "library(rowr)\n",
    "library(corrplot) # For graphical correlations\n",
    "library(caret)\n",
    "library(Hmisc) # For correlation matrix \n",
    "library(rlist)\n",
    "library(randomForest)\n",
    "library(e1071) # tune() for random forests"
   ]
  },
  {
   "cell_type": "markdown",
   "metadata": {},
   "source": [
    "## Reading CSV's\n",
    "\n",
    "Reading the csv's as dataframes into R."
   ]
  },
  {
   "cell_type": "code",
   "execution_count": null,
   "metadata": {},
   "outputs": [],
   "source": [
    "setwd(\"/Users/chetanak/Box Sync/Projects/DataScience/R/house-prices-advanced-regression-techniques/\")\n",
    "train <- read.csv(\"train.csv\", stringsAsFactors = F)\n",
    "test <- read.csv(\"test.csv\", stringsAsFactors = F)"
   ]
  },
  {
   "cell_type": "markdown",
   "metadata": {},
   "source": [
    "## Data Description & Structure"
   ]
  },
  {
   "cell_type": "markdown",
   "metadata": {},
   "source": [
    "The test and train datasets have 1460 and 1459 rows each respectively. The test and train datasets have 81 and 80 columns each respectively. A difference in the columns variables across two data sets reveal absence of 'SalePrice' predictor variable in test data. An 'ID' column variable is present in each of the datasets. However, this column is not essential in prediction rather this column in test data set is required for submission. Hence, saving the 'test$ID' values to a vector 'test_ids' and eliminating the 'ID' column in both the datasets. We now bind the datasets for exploratory analysis. After binding, the combined data set contains 2919 and 80 columns. Of these 80, 79 are predictor variables and one is a response variable, which is 'SalePrice'\n",
    "\n",
    "* The data structure shows both character and integer variables with null values on a few of those variables \n",
    "* The most of the character variables are ordinal factors, but I read them as strings for data cleaning. Post cleaning, we will see if converting any or all of these factors to integer is beneficial \n",
    "\n"
   ]
  },
  {
   "cell_type": "code",
   "execution_count": null,
   "metadata": {
    "collapse": true,
    "comments": true,
    "lines_to_next_cell": 2
   },
   "outputs": [],
   "source": [
    "dim(train)\n",
    "dim(test)\n",
    "setdiff(names(train), names(test))\n",
    "test_ids <- test$Id\n",
    "train$Id <- NULL\n",
    "test$Id <- NULL\n",
    "test$SalePrice <- NA\n",
    "df <- rbind(train, test)\n",
    "dim(df)\n",
    "str(df, list.len=10)"
   ]
  },
  {
   "cell_type": "markdown",
   "metadata": {},
   "source": [
    "## Handling Missing Data, Factoring, Encoding {.tabset}\n",
    "\n",
    "### Prep Data Handling\n",
    "The best way to analyze each varaible is by grouping them under their respective category. After grouping the variabels I am going to,\n",
    "\n",
    "1. Handle missing data\n",
    "2. Factorize the required variables\n",
    "3. Encode variables as needed\n",
    "\n",
    "Subsequent tabs above are going detail the steps taken to handle missing data, factorizing, encoding of the variables. Below is the variable grouping and the missing counts in each variable"
   ]
  },
  {
   "cell_type": "code",
   "execution_count": null,
   "metadata": {
    "hide_input": false,
    "lines_to_next_cell": 0
   },
   "outputs": [],
   "source": [
    "garage_vars <- names(df[which(names(df) %like% \"%Garage%\")])\n",
    "basement_vars <- names(df[which(names(df) %like% \"%Bsmt%\")])\n",
    "pool_vars <- names(df[which(names(df) %like% \"%Pool%\")])\n",
    "\n",
    "porch_vars <- names(df[which(names(df) %like% c(\"%Porch%\", \"%Deck%\"))])\n",
    "\n",
    "sale_vars <- names(df[which(names(df) %like% c(\"%Sale%\", \"%Sold\"))])\n",
    "\n",
    "lot_vars <- names(df[which(names(df) %like% c(\"%Lot%\", \"%Land%\"))])\n",
    "\n",
    "dwelling_vars <- names(df[which(names(df) %like% c(\"%SubClass%\", \"%Bldg%\", \"%HouseStyle%\", \"%Overall%\", \"%Year%\"))])\n",
    "\n",
    "exterior_vars <- names(df[which(names(df) %like% c(\"%Exter%\", \"%Roof%\", \"%MasVnr%\", \"%Foundation%\", \"%Street%\", \"%Alley%\", \"%PavedDrive%\", \"%Fence%\"))])\n",
    "\n",
    "utility_vars <- names(df[which(names(df) %like% c(\"%Heat%\", \"%Utilities%\", \"%Central%\", \"%Electrical%\"))])\n",
    "\n",
    "interior_vars <- names(df[which(names(df) %like% c(\"%Room%\", \"FullBath%\", \"HalfBath%\", \"%Kitchen%\", \"%Fire%\", \"%AbvGr%\", \"%Functional%\", \"%FlrSF%\", \"%LowQualFinSF%\", \"%GrLivArea%\"))])\n",
    "\n",
    "misc_vars <- names(df[which(names(df) %like% c(\"%Misc%\"))])\n",
    "\n",
    "zoning_vars <- names(df[which(names(df) %like% c(\"%Zoning%\"))])\n",
    "\n",
    "neighborhood_vars <- names(df[which(names(df) %like% c(\"%Neighborhood%\", \"Condition%\"))])\n",
    "\n",
    "\n",
    "vars_list = list(garage_vars, basement_vars, pool_vars, porch_vars, sale_vars, lot_vars, \n",
    "                 dwelling_vars, exterior_vars, utility_vars, interior_vars, misc_vars, \n",
    "                 zoning_vars, neighborhood_vars)\n",
    "\n",
    "df_var <- as.data.frame(do.call(cbind.fill, c(vars_list, fill = NA)))\n",
    "colnames(df_var) <-  c(\"GarageVars\", \"BasementVars\", \"PoolVars\", \"PorchVars\", \"SaleVars\", \"LotVars\",\n",
    "                        \"DwellingVars\", \"ExteriorVars\", \"UtilityVars\", \"InteriorVars\", \"MiscVars\", \n",
    "                        \"ZomingVars\", \"NeighborhoodVars\")\n",
    "df_var\n",
    "\n",
    "#Show the  missing value counts with their column names\n",
    "NAcol <- which(colSums(is.na(df)) > 0)\n",
    "df_NA <- sort(colSums(sapply(df[NAcol], is.na)), decreasing = TRUE)\n",
    "df_NA\n"
   ]
  },
  {
   "cell_type": "markdown",
   "metadata": {},
   "source": []
  },
  {
   "cell_type": "markdown",
   "metadata": {},
   "source": [
    "### Garage Variables\n",
    "\n",
    "There are 7 Garage variables, out of which GarageYrBlt, GarageFinish, GarageQual, GarageCond have 159 NA's, GarageType has 157 NA's, GarageCars and Garage Area have 1 NA each."
   ]
  },
  {
   "cell_type": "code",
   "execution_count": null,
   "metadata": {
    "collapse": true,
    "comments": "'##'"
   },
   "outputs": [],
   "source": [
    "df_NA[c(which(names(df_NA) %like% \"Garage%\"))]\n",
    "cbind(sapply(df[garage_vars], class))"
   ]
  },
  {
   "cell_type": "markdown",
   "metadata": {},
   "source": [
    "First we need to check which of the 159 NA's in the variables are common with 157 NA's in GarageType"
   ]
  },
  {
   "cell_type": "code",
   "execution_count": null,
   "metadata": {
    "collapse": true,
    "comment": "'##'"
   },
   "outputs": [],
   "source": [
    "\n",
    "length(which(is.na(df$GarageYrBlt) & is.na(df$GarageFinish) & is.na(df$GarageQual) & is.na(df$GarageCond)  & is.na(df$GarageType)))\n"
   ]
  },
  {
   "cell_type": "markdown",
   "metadata": {
    "lines_to_next_cell": 0
   },
   "source": [
    "There are 157 rows that are common across GarageYrBlt, GarageFinish, GarageQual, GarageCond, GarageType\n",
    "Let's fix the values for these variables by selecting the rows based on GarageType NA's since we know for sure that GarageType NA's are in the 159 NA's for other Garage variables. We assign the value 'None' to all NA's based on the variable description in the previous tab."
   ]
  },
  {
   "cell_type": "code",
   "execution_count": null,
   "metadata": {
    "collapse": true,
    "comment": "'##'"
   },
   "outputs": [],
   "source": [
    "df$GarageFinish[is.na(df$GarageType)] <- 'None'\n",
    "df$GarageQual[is.na(df$GarageType)] <- 'None'\n",
    "df$GarageCond[is.na(df$GarageType)] <- 'None'\n",
    "df$GarageYrBlt[is.na(df$GarageType)] <- 0   # Integer Variable\n",
    "df$GarageType[is.na(df$GarageType)] <- 'None'\n",
    "\n",
    "#Show the  missing value counts with their column names\n",
    "NAcol <- which(colSums(is.na(df)) > 0)\n",
    "df_NA <- sort(colSums(sapply(df[NAcol], is.na)), decreasing = TRUE)\n",
    "df_NA[c(which(names(df_NA) %like% \"Garage%\"))]"
   ]
  },
  {
   "cell_type": "markdown",
   "metadata": {},
   "source": [
    "Now we have 2 NA's in each GarageYrBlt, GarageFinish, GarageQual, GarageCond variables and 1 NA each in GarageCars and GarageArea\n"
   ]
  },
  {
   "cell_type": "code",
   "execution_count": null,
   "metadata": {
    "collapse": true
   },
   "outputs": [],
   "source": [
    "kable(df[which(is.na(df$GarageYrBlt) | is.na(df$GarageFinish) | is.na(df$GarageQual) | is.na(df$GarageCond)), c(\"GarageYrBlt\", \"GarageFinish\", \"GarageQual\", \"GarageCond\", \"GarageCars\", \"GarageArea\")])"
   ]
  },
  {
   "cell_type": "markdown",
   "metadata": {},
   "source": [
    "Is is evident that row 2127 has a Garage since the GarageArea is 360 and row 2577 has none. Fixing row 2577 values as below by assigning 0 value to integer variables and 'None' to character variables"
   ]
  },
  {
   "cell_type": "code",
   "execution_count": null,
   "metadata": {},
   "outputs": [],
   "source": [
    "df$GarageYrBlt[2577] <- 0\n",
    "df$GarageFinish[2577] <- 'None'\n",
    "df$GarageQual[2577] <- 'None'\n",
    "df$GarageCond[2577] <- 'None'\n",
    "df$GarageCars[2577] <- 0\n",
    "df$GarageArea[2577] <- 0\n",
    "df[2577, c(\"GarageYrBlt\", \"GarageFinish\", \"GarageQual\", \"GarageCond\", \"GarageCars\", \"GarageArea\")]"
   ]
  },
  {
   "cell_type": "markdown",
   "metadata": {},
   "source": [
    "Let us fix row 2127 for these variables. For GarageYrBlt variable, I will impute the YearBuild value. For other values I will impute with mode (the most frequent value) in the respective column"
   ]
  },
  {
   "cell_type": "code",
   "execution_count": null,
   "metadata": {
    "collapse": true,
    "comment": "'##'"
   },
   "outputs": [],
   "source": [
    "df$GarageYrBlt[2127] <- df$YearBuilt[2127]\n",
    "df$GarageFinish[2127] <- names(sort(table(df$GarageFinish), decreasing=TRUE)[1])\n",
    "df$GarageQual[2127] <- names(sort(table(df$GarageQual), decreasing=TRUE)[1])\n",
    "df$GarageCond[2127] <- names(sort(table(df$GarageCond), decreasing=TRUE)[1])\n",
    "df[2127, c(\"GarageYrBlt\", \"GarageFinish\", \"GarageQual\", \"GarageCond\", \"GarageCars\", \"GarageArea\")]\n",
    "\n",
    "#Show the  missing value counts with their column names\n",
    "NAcol <- which(colSums(is.na(df)) > 0)\n",
    "df_NA <- sort(colSums(sapply(df[NAcol], is.na)), decreasing = TRUE)\n",
    "df_NA[c(which(names(df_NA) %like% \"Garage%\"))]\n"
   ]
  },
  {
   "cell_type": "markdown",
   "metadata": {},
   "source": [
    "Now, that all the NA's are handled, I am going to evaluate the character variables. We have 4 character variables. Of these there are 3 ordered/ordinal variables (GarageFinish, GarageQual, GarageCond) and 1 unordered/multinomial (GarageType). "
   ]
  },
  {
   "cell_type": "code",
   "execution_count": null,
   "metadata": {},
   "outputs": [],
   "source": [
    "table(df$GarageType)\n",
    "table(df$GarageFinish)\n",
    "table(df$GarageQual)\n",
    "table(df$GarageCond)"
   ]
  },
  {
   "cell_type": "markdown",
   "metadata": {},
   "source": [
    "I will convert GarageType to a factor since it does not have specific ordering to its values. I will assign numerical values to other character variables and convert them to Numeric type. I will decide later if I should treat ordinal variables as numeric or convert them to factors"
   ]
  },
  {
   "cell_type": "code",
   "execution_count": null,
   "metadata": {
    "lines_to_next_cell": 2
   },
   "outputs": [],
   "source": [
    "df$GarageType <- factor(df$GarageType)\n",
    "df$GarageFinish <- as.numeric(revalue(df$GarageFinish, c(\"None\"=0, \"Unf\"=1, \"RFn\"=2, \"Fin\"=3)))\n",
    "df$GarageQual <- as.numeric(revalue(df$GarageQual, c(\"None\"=0, \"Po\"=1, \"Fa\"=2, \"TA\"=3, \"Gd\"=4, \"Ex\"=5)))\n",
    "df$GarageCond <- as.numeric(revalue(df$GarageCond, c(\"None\"=0, \"Po\"=1, \"Fa\"=2, \"TA\"=3, \"Gd\"=4, \"Ex\"=5)))\n",
    "table(df$GarageType)\n",
    "table(df$GarageFinish)\n",
    "table(df$GarageQual)\n",
    "table(df$GarageCond)"
   ]
  },
  {
   "cell_type": "markdown",
   "metadata": {},
   "source": [
    "### Basement Variables "
   ]
  },
  {
   "cell_type": "markdown",
   "metadata": {
    "lines_to_next_cell": 0
   },
   "source": [
    "There are 11 Basement variables and all of them have NA's. "
   ]
  },
  {
   "cell_type": "code",
   "execution_count": null,
   "metadata": {},
   "outputs": [],
   "source": [
    "df_NA[c(which(names(df_NA) %like% \"%Bsmt%\"))]"
   ]
  },
  {
   "cell_type": "markdown",
   "metadata": {},
   "source": [
    "Among these variables I am going to figure out which of the variables BsmtCond, BsmtExposure, BsmtQual, BsmtFinType2 have commond NA row values with BsmtFinType1"
   ]
  },
  {
   "cell_type": "code",
   "execution_count": null,
   "metadata": {},
   "outputs": [],
   "source": [
    "length(which(is.na(df$BsmtCond) & is.na(df$BsmtExposure) & is.na(df$BsmtQual) & is.na(df$BsmtFinType2)  & is.na(df$BsmtFinType1)))"
   ]
  },
  {
   "cell_type": "markdown",
   "metadata": {
    "lines_to_next_cell": 0
   },
   "source": [
    "There are 79 rows that common across BsmtCond, BsmtExposure, BsmtQual, BsmtFinType2 and BsmtFinType1. Let's fix the values for these variables by selecting the rows based on BsmtFinType1 NA's since we know for sure that BsmtFinType1 NA's are in the 82,81,80 NA's for other Basement variables. We assign the value 'None' to all NA's based on the variable description."
   ]
  },
  {
   "cell_type": "code",
   "execution_count": null,
   "metadata": {},
   "outputs": [],
   "source": [
    "df$BsmtCond[is.na(df$BsmtFinType1)] <- 'None'\n",
    "df$BsmtExposure[is.na(df$BsmtFinType1)] <- 'None'\n",
    "df$BsmtQual[is.na(df$BsmtFinType1)] <- 'None'\n",
    "df$BsmtFinType2[is.na(df$BsmtFinType1)] <- 'None'\n",
    "df$BsmtFinType1[is.na(df$BsmtFinType1)] <- 'None'\n",
    "\n",
    "#Show the  missing value counts with their column names\n",
    "NAcol <- which(colSums(is.na(df)) > 0)\n",
    "df_NA <- sort(colSums(sapply(df[NAcol], is.na)), decreasing = TRUE)\n",
    "df_NA[c(which(names(df_NA) %like% \"%Bsmt%\"))]"
   ]
  },
  {
   "cell_type": "markdown",
   "metadata": {},
   "source": [
    "Now we have 3 NA's in each BsmtCond, BsmtExposure, 2 NA's each in BsmtQual, BsmtFullBath BsmtHalfBath and 1 NA each in BsmtFinSF1, BsmtFinType2, BsmtFinSF2, BsmtUnfSF, and TotalBsmtSF\n"
   ]
  },
  {
   "cell_type": "code",
   "execution_count": null,
   "metadata": {},
   "outputs": [],
   "source": [
    "kable(df[which(is.na(df$BsmtCond) | is.na(df$BsmtExposure) | is.na(df$BsmtQual) | is.na(df$BsmtFullBath) | is.na(df$BsmtHalfBath) | is.na(df$BsmtFinSF1) | is.na(df$BsmtFinType2) | is.na(df$BsmtFinSF2) | is.na(df$BsmtUnfSF) | is.na(df$TotalBsmtSF)), c(\"BsmtCond\", \"BsmtExposure\", \"BsmtQual\", \"BsmtFullBath\", \"BsmtHalfBath\",\"BsmtFinSF1\", \"BsmtFinType2\", \"BsmtFinSF2\", \"BsmtUnfSF\", \"TotalBsmtSF\")])"
   ]
  },
  {
   "cell_type": "markdown",
   "metadata": {},
   "source": [
    "The output above indicates,\n",
    "\n",
    "* Row 333 has 1 NA value for BsmtFinType2. I will impute it with a mode value\n",
    "* Rows 949, 1488, 2349 have 1 NA each for BsmtExposure. I will impute with mode value\n",
    "* Rows 2041, 2186, 2525 have 1 NA each for BsmtCond. I will impute with mode value\n",
    "* Rows 2121 and 2189 have no basement and will impute the integer variables with 0 for BsmtFullBath, BsmtHalfBath,BsmtFinSF1,BsmtFinSF2, BsmtUnfSF, TotalBsmtSF\n",
    "* Rows 2218, 2219 have 1 NA each for BsmtQual. I will impute with mode value"
   ]
  },
  {
   "cell_type": "code",
   "execution_count": null,
   "metadata": {},
   "outputs": [],
   "source": [
    "df$BsmtFinType2[333] <- names(sort(table(df$BsmtFinType2), decreasing=TRUE))[1]\n",
    "df$BsmtExposure[c(949,1488,2349)] <- names(sort(table(df$BsmtExposure), decreasing=TRUE))[1]\n",
    "df$BsmtCond[c(2041,2186,2525)] <- names(sort(table(df$BsmtCond), decreasing=TRUE))[1]\n",
    "df$BsmtFullBath[c(2121,2189)] <- 0\n",
    "df$BsmtHalfBath[c(2121,2189)] <- 0\n",
    "df[2121, c(\"BsmtFinSF1\", \"BsmtFinSF2\", \"BsmtUnfSF\", \"TotalBsmtSF\")] <- 0\n",
    "df$BsmtQual[c(2218,2219)] <- names(sort(table(df$BsmtQual), decreasing=TRUE))[1]"
   ]
  },
  {
   "cell_type": "markdown",
   "metadata": {},
   "source": [
    "Test if the NA's are handled"
   ]
  },
  {
   "cell_type": "code",
   "execution_count": null,
   "metadata": {},
   "outputs": [],
   "source": [
    "kable(df[c(333,949,1488,2041,2121,2186,2189,2218,2219,2349,2525), c(\"BsmtCond\", \"BsmtExposure\", \"BsmtQual\", \"BsmtFullBath\", \"BsmtHalfBath\",\"BsmtFinSF1\", \"BsmtFinType2\", \"BsmtFinSF2\", \"BsmtUnfSF\", \"TotalBsmtSF\")])"
   ]
  },
  {
   "cell_type": "markdown",
   "metadata": {},
   "source": [
    "There are 5 character Basement variables, 3 of which are ordered (BsmtQual, BsmtCond, BsmtExposure) and 2 of which are unordered (BsmtFinType1, BsmtFinType2). I will convert the unordered variables to factors and assign numeric values to ordered varaibles and convert them to numeric types."
   ]
  },
  {
   "cell_type": "code",
   "execution_count": null,
   "metadata": {},
   "outputs": [],
   "source": [
    "cbind(sapply(df[basement_vars], class))\n",
    "table(df$BsmtQual)\n",
    "table(df$BsmtCond)\n",
    "table(df$BsmtExposure)\n",
    "table(df$BsmtFinType1)\n",
    "table(df$BsmtFinType2)\n",
    "df$BsmtFinType1 <- as.factor(df$BsmtFinType1)\n",
    "df$BsmtFinType2 <- as.factor(df$BsmtFinType2)\n",
    "df$BsmtQual <-  as.integer(revalue(df$BsmtQual, c(\"None\"=0, \"Fa\"=1, \"TA\"=2, \"Gd\"=3, \"Ex\"=4)))\n",
    "df$BsmtCond <-  as.integer(revalue(df$BsmtCond, c(\"None\"=0, \"Po\"=1, \"Fa\"=2, \"TA\"=3, \"Gd\"=4)))\n",
    "df$BsmtExposure <-  as.integer(revalue(df$BsmtExposure, c(\"None\"=0, \"No\"=1, \"Mn\"=2, \"Av\"=3, \"Gd\"=4)))\n",
    "table(df$BsmtQual)\n",
    "table(df$BsmtCond)\n",
    "table(df$BsmtExposure)\n",
    "table(df$BsmtFinType1)\n",
    "table(df$BsmtFinType2)"
   ]
  },
  {
   "cell_type": "markdown",
   "metadata": {},
   "source": [
    "### Pool Variables \n",
    "There are 2 pool variables and only variable PoolQC have 2909 NA's."
   ]
  },
  {
   "cell_type": "code",
   "execution_count": null,
   "metadata": {},
   "outputs": [],
   "source": [
    "df_NA[c(which(names(df_NA) %like% pool_vars))]\n",
    "\n"
   ]
  },
  {
   "cell_type": "markdown",
   "metadata": {},
   "source": [
    "For variable PoolQC, based on the description I am going to replace NA's with None if the PoolArea is 0. It appears that there are 2906 PoolQA NA's since there are 2906 PoolArea values with 0. "
   ]
  },
  {
   "cell_type": "code",
   "execution_count": null,
   "metadata": {},
   "outputs": [],
   "source": [
    "df$PoolQC[df$PoolArea==0]  <- 'None'\n",
    "#Show the  missing value counts with their column names\n",
    "NAcol <- which(colSums(is.na(df)) > 0)\n",
    "df_NA <- sort(colSums(sapply(df[NAcol], is.na)), decreasing = TRUE)\n",
    "df_NA[c(which(names(df_NA) %like% \"%Pool%\"))]\n",
    "df[(is.na(df$PoolQC)), c(\"PoolQC\", \"PoolArea\")]"
   ]
  },
  {
   "cell_type": "markdown",
   "metadata": {},
   "source": [
    "We need to find the 3 missing PoolQC NA's and their respective PoolArea values. Rows 2421, 2504, 2600 have PoolArea values but the PoolQC is missing.  The NA values will be imputed with the mode"
   ]
  },
  {
   "cell_type": "code",
   "execution_count": null,
   "metadata": {},
   "outputs": [],
   "source": [
    "df$PoolQC[c(2421,2504,2600)] <- names(sort(table(df$PoolQC), decreasing=TRUE))[2]\n",
    "NAcol <- which(colSums(is.na(df)) > 0)\n",
    "df_NA <- sort(colSums(sapply(df[NAcol], is.na)), decreasing = TRUE)\n",
    "df_NA[c(which(names(df_NA) %like% \"%Pool%\"))]\n",
    "df$PoolQC[c(2421,2504,2600)]"
   ]
  },
  {
   "cell_type": "markdown",
   "metadata": {},
   "source": [
    "There is 1 Pool ordinal character variable and I will assign numeric values and convert it to integer type. "
   ]
  },
  {
   "cell_type": "code",
   "execution_count": null,
   "metadata": {
    "lines_to_next_cell": 0
   },
   "outputs": [],
   "source": [
    "cbind(sapply(df[pool_vars], class))\n",
    "table(df$PoolQC)\n",
    "df$PoolQC <-  as.integer(revalue(df$PoolQC, c(\"None\"=0, \"Fa\"=1, \"Gd\"=2, \"Ex\"=3)))\n",
    "table(df$PoolQC)"
   ]
  },
  {
   "cell_type": "markdown",
   "metadata": {},
   "source": [
    "###Porch Variables\n",
    "\n",
    "There are 5 porch variables and no NA's\n",
    "\n",
    "**WoodDeckSF: Wood deck area in square feet**\n",
    "\n",
    "**OpenPorchSF: Open porch area in square feet**\n",
    "\n",
    "**EnclosedPorch: Enclosed porch area in square feet**\n",
    "\n",
    "**3SsnPorch: Three season porch area in square feet**\n",
    "\n",
    "**ScreenPorch: Screen porch area in square feet**\n",
    "\n",
    "There are 5 integer porch variables and no NA's."
   ]
  },
  {
   "cell_type": "code",
   "execution_count": null,
   "metadata": {
    "lines_to_next_cell": 2
   },
   "outputs": [],
   "source": [
    "\n",
    "df_NA[c(which(names(df_NA) %like% porch_vars))]\n",
    "cbind(sapply(df[porch_vars], class))\n"
   ]
  },
  {
   "cell_type": "markdown",
   "metadata": {},
   "source": [
    "### Sale Variables "
   ]
  },
  {
   "cell_type": "markdown",
   "metadata": {},
   "source": [
    "There are 4 sale variables out of which SalePrice and SaleType have NA's. The 1459 NA's in SalePrice are due to the addition of missing 'SalePrice' column with NA's assigned in test data that we need to predict. "
   ]
  },
  {
   "cell_type": "code",
   "execution_count": null,
   "metadata": {},
   "outputs": [],
   "source": [
    "df_NA[c(which(names(df_NA) %like% sale_vars))]"
   ]
  },
  {
   "cell_type": "markdown",
   "metadata": {},
   "source": [
    "For SaleType 'NA' values, I will impute with the mode value. There are 2 character  variables, 'SaleType' and 'SaleCondition'. Both the character variables are unordered and will convert them to factors"
   ]
  },
  {
   "cell_type": "code",
   "execution_count": null,
   "metadata": {},
   "outputs": [],
   "source": [
    "df$SaleType[is.na(df$SaleType)] <- names(sort(table(df$SaleType), decreasing=TRUE))[1]\n",
    "NAcol <- which(colSums(is.na(df)) > 0)\n",
    "df_NA <- sort(colSums(sapply(df[NAcol], is.na)), decreasing = TRUE)\n",
    "df_NA[c(which(names(df_NA) %like% \"%Sale%\"))]\n",
    "cbind(sapply(df[sale_vars], class))\n",
    "table(df$SaleType)\n",
    "table(df$SaleCondition)\n",
    "df$SaleType <- as.factor(df$SaleType)\n",
    "df$SaleCondition <- as.factor(df$SaleCondition)"
   ]
  },
  {
   "cell_type": "markdown",
   "metadata": {},
   "source": [
    "### Lot and Land Variables  "
   ]
  },
  {
   "cell_type": "markdown",
   "metadata": {},
   "source": [
    "There are 6 variables related to Lot and Land. Variable 'LotFrontage' has 486 NA's."
   ]
  },
  {
   "cell_type": "code",
   "execution_count": null,
   "metadata": {},
   "outputs": [],
   "source": [
    "df_NA[c(which(names(df_NA) %like% lot_vars))]\n",
    "cbind(sapply(df[lot_vars], class))"
   ]
  },
  {
   "cell_type": "markdown",
   "metadata": {},
   "source": [
    "The NA's for the LotFrontage will be imputed with median value per Neighborhood variable since the values will be within bounds, while imputing with median can make the data look normally distributed. "
   ]
  },
  {
   "cell_type": "code",
   "execution_count": null,
   "metadata": {},
   "outputs": [],
   "source": [
    "lot_agg_median <- aggregate(list(\"LotFrontage_median\"=df$LotFrontage), by=list(\"Neighborhood\"=df$Neighborhood), FUN=median, na.rm=TRUE)\n",
    "lot_agg_median\n",
    "barplot(lot_agg_median$LotFrontage, names.arg=lot_agg_median$Neighborhood, main=\"Median LotFrontage by Neighborhood\", xlab=\"Neighborhoods\", ylab=\"Median Lot Frontage\", col=\"blue\")\n",
    "\n",
    "\n",
    "for (i in 1:nrow(df)){\n",
    "  if(is.na(df$LotFrontage[i])){\n",
    "    df$LotFrontage[i] <- as.integer(median(df$LotFrontage[df$Neighborhood==df$Neighborhood[i]], na.rm=TRUE))\n",
    "  }\n",
    "}\n",
    "\n",
    "NAcol <- which(colSums(is.na(df)) > 0)\n",
    "df_NA <- sort(colSums(sapply(df[NAcol], is.na)), decreasing = TRUE)\n",
    "df_NA[c(which(names(df_NA) %like% \"%Lot%\"))]"
   ]
  },
  {
   "cell_type": "markdown",
   "metadata": {},
   "source": [
    "There are 4 character variables. LotConfig and LandContour variables look like unordered varaibles and will convert them to factors. LotShape and LandSlope have ordinal values hence will assign numeric values and convert them to numeric variables"
   ]
  },
  {
   "cell_type": "code",
   "execution_count": null,
   "metadata": {},
   "outputs": [],
   "source": [
    "table(df$LotShape)\n",
    "table(df$LandContour)\n",
    "table(df$LotConfig)\n",
    "table(df$LandSlope)\n",
    "df$LotConfig <- as.factor(df$LotConfig)\n",
    "df$LandContour <- as.factor(df$LandContour)\n",
    "df$LotShape <- as.numeric(revalue(df$LotShape, c('IR3'=0, 'IR2'=1, 'IR1'=2, 'Reg'=3)))\n",
    "df$LandSlope <- as.numeric(revalue(df$LandSlope, c('Sev'=0, 'Mod'=1, 'Gtl'=2)))\n",
    "table(df$LotShape)\n",
    "table(df$LandContour)\n",
    "table(df$LotConfig)\n",
    "table(df$LandSlope)\n",
    "                           "
   ]
  },
  {
   "cell_type": "markdown",
   "metadata": {},
   "source": [
    "### Dwelling Variables \n",
    "\n",
    "There are 7 Dwelling varaibles with no NA's. There are 2 character variables that are unordered hence I will convert them to factors. 'MSSubClass' is an integer variable that should be converted into a factor. Based on the description, it identifies the type of dwelling involved in the sale. It is coded numerically and is an unordered variable."
   ]
  },
  {
   "cell_type": "code",
   "execution_count": null,
   "metadata": {},
   "outputs": [],
   "source": [
    "NAcol <- which(colSums(is.na(df)) > 0)\n",
    "df_NA <- sort(colSums(sapply(df[NAcol], is.na)), decreasing = TRUE)\n",
    "df_NA[c(which(names(df_NA) %like% dwelling_vars))]\n",
    "cbind(sapply(df[dwelling_vars], class))\n",
    "table(df$BldgType)\n",
    "table(df$HouseStyle)\n",
    "df$BldgType <- as.factor(df$BldgType)\n",
    "df$HouseStyle <- as.factor(df$HouseStyle)\n",
    "df$MSSubClass <- as.factor(as.character(df$MSSubClass))\n",
    "cbind(sapply(df[dwelling_vars], class))"
   ]
  },
  {
   "cell_type": "markdown",
   "metadata": {},
   "source": [
    "### Exterior Features \n",
    "\n",
    "There are 13 exterior variables out of which 12 are character variables"
   ]
  },
  {
   "cell_type": "code",
   "execution_count": null,
   "metadata": {},
   "outputs": [],
   "source": [
    "# NA's for the exterior variables\n",
    "NAcol <- which(colSums(is.na(df)) > 0)\n",
    "df_NA <- sort(colSums(sapply(df[NAcol], is.na)), decreasing = TRUE)\n",
    "df_NA[c(which(names(df_NA) %like% exterior_vars))]\n",
    "cbind(sapply(df[exterior_vars], class))"
   ]
  },
  {
   "cell_type": "markdown",
   "metadata": {
    "lines_to_next_cell": 0
   },
   "source": [
    "Fixing 'Alley' and 'Fence' variables"
   ]
  },
  {
   "cell_type": "code",
   "execution_count": null,
   "metadata": {},
   "outputs": [],
   "source": [
    "df$Alley[is.na(df$Alley)] <- 'None'\n",
    "df$Fence[is.na(df$Fence)] <- 'None'\n",
    "df[is.na(df$MasVnrType), c(\"MasVnrType\", \"MasVnrArea\")]"
   ]
  },
  {
   "cell_type": "markdown",
   "metadata": {},
   "source": [
    "It is evident that row 2611 has MasVnrArea and a missing MasVnrType. I am going to impute the 'NA' with a mode (excluding 'None' if it is the most frequent)."
   ]
  },
  {
   "cell_type": "code",
   "execution_count": null,
   "metadata": {},
   "outputs": [],
   "source": [
    "df$MasVnrType[is.na(df$MasVnrArea)] <- 'None'\n",
    "df$MasVnrArea[is.na(df$MasVnrArea)] <- 0\n",
    "df[2611, \"MasVnrType\"] <- names(sort(table(df$MasVnrType), decreasing=TRUE))[2]\n",
    "df[2611, c(\"MasVnrType\", \"MasVnrArea\")]\n",
    "\n",
    "df[which(is.na(df$Exterior1st) | is.na(df$Exterior2nd)), c(\"Exterior1st\", \"Exterior2nd\")]\n",
    "df$Exterior1st[is.na(df$Exterior1st)] <- names(sort(-table(df$Exterior1st)))[1]\n",
    "df$Exterior2nd[is.na(df$Exterior2nd)] <- names(sort(-table(df$Exterior2nd)))[1]\n",
    "\n",
    "NAcol <- which(colSums(is.na(df)) > 0)\n",
    "df_NA <- sort(colSums(sapply(df[NAcol], is.na)), decreasing = TRUE)\n",
    "df_NA[c(which(names(df_NA) %like% c(\"%Exter%\", \"%Roof%\", \"%MasVnr%\", \"%Foundation%\", \"%Street%\", \"%Alley%\", \"%PavedDrive%\", \"%Fence%\")))]"
   ]
  },
  {
   "cell_type": "markdown",
   "metadata": {},
   "source": [
    "Variables 'Street', 'Alley', 'RoofStyle', 'RoofMatl', 'Exterior1st', 'Exterior2nd', 'MasVnrType', 'Foundation' and 'PavedDrive', \"Fence\" are unordered variables and will convert them to factors. Variables 'ExterQual', 'ExterCond' are ordered variables and assign numeric values to them an convert them to integer variables."
   ]
  },
  {
   "cell_type": "code",
   "execution_count": null,
   "metadata": {},
   "outputs": [],
   "source": [
    "df[,c(\"Street\", \"Alley\", \"RoofStyle\", \"RoofMatl\", \"Exterior1st\", \"Exterior2nd\", \"MasVnrType\", \"Foundation\", \"PavedDrive\", \"Fence\")] <- lapply(df[,c(\"Street\", \"Alley\", \"RoofStyle\", \"RoofMatl\", \"Exterior1st\", \"Exterior2nd\", \"MasVnrType\", \"Foundation\", \"PavedDrive\", \"Fence\")], factor) \n",
    "\n",
    "df$ExterQual <-  as.integer(revalue(df$ExterQual, c(\"Fa\"=0, \"TA\"=1, \"Gd\"=2, \"Ex\"=3)))\n",
    "df$ExterCond <-  as.integer(revalue(df$ExterCond, c(\"Po\"=0, \"Fa\"=1, \"TA\"=2, \"Gd\"=3, \"Ex\"=4)))\n",
    "table(df$ExterQual)\n",
    "table(df$ExterCond)\n",
    "table(df$Foundation)\n",
    "table(df$PavedDrive)\n",
    "table(df$Fence)\n",
    "cbind(sapply(df[exterior_vars], class))"
   ]
  },
  {
   "cell_type": "markdown",
   "metadata": {},
   "source": [
    "### Utility Variables \n",
    "\n",
    "There are 5 utilities variables. Variable 'Utilities' has 2 NAs and 'Electrical' has 1 NA. All are character variables"
   ]
  },
  {
   "cell_type": "code",
   "execution_count": null,
   "metadata": {},
   "outputs": [],
   "source": [
    "cbind(sapply(df[utility_vars], class))\n",
    "NAcol <- which(colSums(is.na(df)) > 0)\n",
    "df_NA <- sort(colSums(sapply(df[NAcol], is.na)), decreasing = TRUE)\n",
    "df_NA[c(which(names(df_NA) %like% utility_vars))]\n",
    "df[is.na(df$Utilities) | is.na(df$Electrical), c(\"Utilities\", \"Electrical\")]\n"
   ]
  },
  {
   "cell_type": "markdown",
   "metadata": {},
   "source": [
    "Fixing the variables with the mode values."
   ]
  },
  {
   "cell_type": "code",
   "execution_count": null,
   "metadata": {},
   "outputs": [],
   "source": [
    "df[1380, \"Electrical\"] <- names(sort(table(df$Electrical), decreasing=TRUE))[1]\n",
    "df[c(1916, 1946), c(\"Utilities\")] <- names(sort(table(df$Utilities), decreasing=TRUE))[1]\n",
    "NAcol <- which(colSums(is.na(df)) > 0)\n",
    "df_NA <- sort(colSums(sapply(df[NAcol], is.na)), decreasing = TRUE)\n",
    "df_NA[c(which(names(df_NA) %like% utility_vars))]"
   ]
  },
  {
   "cell_type": "code",
   "execution_count": null,
   "metadata": {},
   "outputs": [],
   "source": [
    "\n",
    "table(df$Utilities)\n",
    "table(df$Heating)\n",
    "table(df$HeatingQC)\n",
    "table(df$CentralAir)\n",
    "table(df$Electrical)"
   ]
  },
  {
   "cell_type": "markdown",
   "metadata": {},
   "source": [
    "Variables 'Utilities' and 'Heating' and 'Electrical' are unordered and hence will convert them to factors. Variables 'HeatingQC' and 'CentralAir' are ordered and will assigned numeric values and convert them to numeric type."
   ]
  },
  {
   "cell_type": "code",
   "execution_count": null,
   "metadata": {},
   "outputs": [],
   "source": [
    "\n",
    "df$Utilities <- as.factor(df$Utilities)\n",
    "df$Heating <- as.factor(df$Heating)\n",
    "df$Electrical <- as.factor(df$Electrical)\n",
    "df$HeatingQC <-  as.integer(revalue(df$HeatingQC, c(\"Po\"=0, \"Fa\"=1, \"TA\"=2, \"Gd\"=3, \"Ex\"=4)))\n",
    "df$CentralAir <-  as.integer(revalue(df$CentralAir, c(\"N\"=0, \"Y\"=1)))\n",
    "table(df$Utilities)\n",
    "table(df$Heating)\n",
    "table(df$HeatingQC)\n",
    "table(df$CentralAir)\n",
    "table(df$Electrical)\n",
    "cbind(sapply(df[utility_vars], class))"
   ]
  },
  {
   "cell_type": "markdown",
   "metadata": {},
   "source": [
    "### Interior Features "
   ]
  },
  {
   "cell_type": "code",
   "execution_count": null,
   "metadata": {},
   "outputs": [],
   "source": [
    "cbind(sapply(df[interior_vars], class))\n",
    "NAcol <- which(colSums(is.na(df)) > 0)\n",
    "df_NA <- sort(colSums(sapply(df[NAcol], is.na)), decreasing = TRUE)\n",
    "df_NA[c(which(names(df_NA) %like% interior_vars))]"
   ]
  },
  {
   "cell_type": "markdown",
   "metadata": {},
   "source": [
    "Handling missing data"
   ]
  },
  {
   "cell_type": "code",
   "execution_count": null,
   "metadata": {},
   "outputs": [],
   "source": [
    "df$FireplaceQu[is.na(df$FireplaceQu)] <- 'None'\n",
    "df[is.na(df$Functional) | is.na(df$KitchenQual), c(\"Functional\", \"KitchenQual\")] \n",
    "df$KitchenQual[is.na(df$KitchenQual)] <- names(sort(table(df$KitchenQual), decreasing=TRUE))[1]\n",
    "df$Functional[is.na(df$Functional)] <- names(sort(table(df$Functional), decreasing=TRUE))[1]\n",
    "NAcol <- which(colSums(is.na(df)) > 0)\n",
    "df_NA <- sort(colSums(sapply(df[NAcol], is.na)), decreasing = TRUE)\n",
    "df_NA[c(which(names(df_NA) %like% interior_vars))]\n",
    "table(df$FireplaceQu)\n",
    "table(df$Functional)\n",
    "table(df$KitchenQual)"
   ]
  },
  {
   "cell_type": "markdown",
   "metadata": {},
   "source": [
    "All the three character variables are ordinal and will assign integer values and convert them to integer type variables."
   ]
  },
  {
   "cell_type": "code",
   "execution_count": null,
   "metadata": {},
   "outputs": [],
   "source": [
    "\n",
    "df$FireplaceQu <-  as.integer(revalue(df$FireplaceQu, c(\"None\"=0, \"Po\"=1, \"Fa\"=2, \"TA\"=3, \"Gd\"=4, \"Ex\"=5)))\n",
    "df$Functional <-  as.integer(revalue(df$Functional, c(\"Sal\"=0, \"Sev\"=1, \"Maj2\"=2, \"Maj1\"=3, \"Mod\"=4, \"Min2\"=5, \"Min1\"=6, \"Typ\"=7)))\n",
    "df$KitchenQual <-  as.integer(revalue(df$KitchenQual, c(\"Fa\"=0, \"TA\"=1, \"Gd\"=2, \"Ex\"=3)))\n",
    "table(df$FireplaceQu)\n",
    "table(df$Functional)\n",
    "table(df$KitchenQual)"
   ]
  },
  {
   "cell_type": "markdown",
   "metadata": {},
   "source": [
    "###Miscellaneous Variables \n",
    "\n",
    "There are 2 varaibles and 'MiscFeature' has 2814 NA's"
   ]
  },
  {
   "cell_type": "code",
   "execution_count": null,
   "metadata": {},
   "outputs": [],
   "source": [
    "cbind(sapply(df[misc_vars], class))\n",
    "NAcol <- which(colSums(is.na(df)) > 0)\n",
    "df_NA <- sort(colSums(sapply(df[NAcol], is.na)), decreasing = TRUE)\n",
    "df_NA[c(which(names(df_NA) %like% c(\"%Misc%\")))]\n",
    "\n"
   ]
  },
  {
   "cell_type": "markdown",
   "metadata": {},
   "source": [
    "I will assign 'None' to all the NA's in this variable and convert it to a factor since there is no order and it is a multinomial variable."
   ]
  },
  {
   "cell_type": "code",
   "execution_count": null,
   "metadata": {},
   "outputs": [],
   "source": [
    "df$MiscFeature[is.na(df$MiscFeature)] <- \"None\"\n",
    "table(df$MiscFeature)\n",
    "NAcol <- which(colSums(is.na(df)) > 0)\n",
    "df_NA <- sort(colSums(sapply(df[NAcol], is.na)), decreasing = TRUE)\n",
    "df_NA[c(which(names(df_NA) %like% c(\"%Misc%\")))]\n",
    "df$MiscFeature <- as.factor(df$MiscFeature)\n",
    "cbind(sapply(df[misc_vars], class))"
   ]
  },
  {
   "cell_type": "markdown",
   "metadata": {},
   "source": [
    "### Zoning Variables "
   ]
  },
  {
   "cell_type": "markdown",
   "metadata": {
    "lines_to_next_cell": 0
   },
   "source": [
    "MSZoning: Identifies the general zoning classification of the sale.\n",
    "\t\t\n",
    "       A\tAgriculture\n",
    "       C\tCommercial\n",
    "       FV\tFloating Village Residential\n",
    "       I\tIndustrial\n",
    "       RH\tResidential High Density\n",
    "       RL\tResidential Low Density\n",
    "       RP\tResidential Low Density Park \n",
    "       RM\tResidential Medium Density\n",
    "       "
   ]
  },
  {
   "cell_type": "code",
   "execution_count": null,
   "metadata": {},
   "outputs": [],
   "source": [
    "cbind(sapply(df[zoning_vars], class))\n",
    "table(df[zoning_vars])\n",
    "NAcol <- which(colSums(is.na(df)) > 0)\n",
    "df_NA <- sort(colSums(sapply(df[NAcol], is.na)), decreasing = TRUE)\n",
    "df_NA[c(which(names(df_NA) %like% zoning_vars))]"
   ]
  },
  {
   "cell_type": "markdown",
   "metadata": {},
   "source": [
    "There are 4 NA in 'MSZoning' variable and I will impute it with mode. The variable is not ordinal and hence will convert it to a factor."
   ]
  },
  {
   "cell_type": "code",
   "execution_count": null,
   "metadata": {},
   "outputs": [],
   "source": [
    "df$MSZoning[is.na(df$MSZoning)] <- names(sort(table(df$MSZoning), decreasing=TRUE))[1]\n",
    "\n",
    "NAcol <- which(colSums(is.na(df)) > 0)\n",
    "df_NA <- sort(colSums(sapply(df[NAcol], is.na)), decreasing = TRUE)\n",
    "df_NA[c(which(names(df_NA) %like% zoning_vars))]\n",
    "df$MSZoning <- as.factor(df$MSZoning)\n",
    "cbind(sapply(df[zoning_vars], class))"
   ]
  },
  {
   "cell_type": "markdown",
   "metadata": {},
   "source": [
    "### Community and Neighborhood Variables \n",
    "\n",
    "There are 3 varaibles with no NA's"
   ]
  },
  {
   "cell_type": "code",
   "execution_count": null,
   "metadata": {},
   "outputs": [],
   "source": [
    "cbind(sapply(df[neighborhood_vars], class))\n",
    "NAcol <- which(colSums(is.na(df)) > 0)\n",
    "df_NA <- sort(colSums(sapply(df[NAcol], is.na)), decreasing = TRUE)\n",
    "df_NA[c(which(names(df_NA) %like% neighborhood_vars))]\n",
    "table(df$Neighborhood)\n",
    "table(df$Condition1)\n",
    "table(df$Condition2)"
   ]
  },
  {
   "cell_type": "markdown",
   "metadata": {},
   "source": [
    "All the three variables are unordered and will convert them to factors"
   ]
  },
  {
   "cell_type": "code",
   "execution_count": null,
   "metadata": {},
   "outputs": [],
   "source": [
    "df$Neighborhood <- as.factor(df$Neighborhood)\n",
    "df$Condition1 <- as.factor(df$Condition1)\n",
    "df$Condition2 <- as.factor(df$Condition2)\n",
    "cbind(sapply(df[neighborhood_vars], class))"
   ]
  },
  {
   "cell_type": "markdown",
   "metadata": {},
   "source": [
    "## Feature Engineering & Feature Elimination\n",
    "\n",
    "Now that the variable handling is done, I will explore the data further to understand the relationship between variables and their importance as below - \n",
    "\n",
    " 1. Check linear combination of numeric variables\n",
    " 2. Skew and Kurtosis of integer variables\n",
    " 3. check the correlation of the integer variables \n",
    " 4. check variable importance using random forests\n"
   ]
  },
  {
   "cell_type": "code",
   "execution_count": null,
   "metadata": {
    "collapse": true
   },
   "outputs": [],
   "source": [
    "### Group the factor and integer variables\n",
    "numeric_cols <- unlist(sapply(df, is.numeric))\n",
    "numeric_col_names <- names(df[,numeric_cols])\n",
    "factor_cols <- unlist(sapply(df, is.factor))\n",
    "names(df[,factor_cols])\n",
    "\n",
    "\n",
    "#Find linear combinations and eliminate the combination variables. Do not include SalePrice variable.\n",
    "findLinearCombos(df[,numeric_col_names[-52]])\n",
    "\n",
    "### Skew and Kurtosis of integer variables prior to any transformations, feature engineering or one-hot encoding\n",
    "as.data.frame(psych::describe(df[,numeric_cols]))[, c(\"mean\", \"median\", \"sd\", \"skew\", \"kurtosis\")]"
   ]
  },
  {
   "cell_type": "markdown",
   "metadata": {},
   "source": [
    "findLinearCombos() identified that \n",
    "1. TotalBsmtSF is a cumlative sum of \"BsmtFinSF1\"    \"BsmtFinSF2\"    \"BsmtUnfSF\"\n",
    "2. \"GrLivArea\" is a cumlative sum of \"X1stFlrSF\"     \"X2ndFlrSF\"     \"LowQualFinSF\""
   ]
  },
  {
   "cell_type": "code",
   "execution_count": null,
   "metadata": {
    "collapse": true,
    "fig.height": 10,
    "fig.width": 10
   },
   "outputs": [],
   "source": [
    "\n",
    "### Get a correlation of int variables\n",
    "\n",
    "#### Plot the correlations of all numeric variables ####\n",
    "df_corr <- cor(df[,numeric_cols], use=\"pairwise.complete.obs\") #correlations of all numeric variables\n",
    "#sort on decreasing correlations with SalePrice\n",
    "df_corr_sorted <- as.matrix(sort(df_corr[,'SalePrice'], decreasing = TRUE))\n",
    "#select only high corelations with Sales Price\n",
    "df_high_corr <- names(which(apply(df_corr_sorted, 1, function(x) abs(x)>0.4)))\n",
    "df_corr_matrix <- df_corr[df_high_corr, df_high_corr]\n",
    "#corrplot.mixed(cor_numVar, tl.col=\"black\", tl.pos = \"lt\", upper=\"circle\", lower=\"number\")\n",
    "corrplot(df_corr_matrix, method=\"number\", tl.col=\"black\", tl.srt=45)\n"
   ]
  },
  {
   "cell_type": "markdown",
   "metadata": {},
   "source": [
    "The correlation matrix above indicates the variables that are highly correlated with SalePrice. There is also a high correlation among some predictor variables. Inorder to reduce the effects of multi-collinearity we need to eliminate predictor variables that are highly correlated with other predictor variables. Before eliminating the variables I am going to run a Random Forests model for a test of significance and important variables."
   ]
  },
  {
   "cell_type": "code",
   "execution_count": null,
   "metadata": {
    "collapse": true,
    "fig.height": 10,
    "fig.width": 10
   },
   "outputs": [],
   "source": [
    "set.seed(100)\n",
    "#check variable importance using random forests\n",
    "#rf_ranges <- list(ntree=c(500), mtry=5:30)\n",
    "#rf_tune <- tune(randomForest, SalePrice ~ ., data=df[1:1460,], ranges=rf_ranges) \n",
    "#rf_tune$best.parameters\n",
    "#rf_best <- rf_tune$best.model\n",
    "#rf_best\n",
    "df_rf <- randomForest(x=df[1:1460, -80], y=df$SalePrice[1:1460], ntree=500, importance=TRUE)\n",
    "varImpPlot(df_rf)"
   ]
  },
  {
   "cell_type": "markdown",
   "metadata": {},
   "source": [
    "The left plot above indicates the increase in MSE if a variable is taken out of the model. The right plot indicates the node purity, which is a loss function using which the splits are chosen. The loss function is MSE for regression and GINI-impurity for classification.\n",
    "\n",
    "Now, I will proceed with feature engineering and feature elimination. I will start with each of the variable groups above, run a pair-wise correlation of each group with SalePrice while keeping in view the above correlation matrix and variable importance. "
   ]
  },
  {
   "cell_type": "code",
   "execution_count": null,
   "metadata": {},
   "outputs": [],
   "source": [
    "cor(df[,c(\"SalePrice\", \"GarageCars\", \"GarageArea\", \"GarageYrBlt\", \"GarageFinish\", \"GarageQual\", \"GarageCond\")], use=\"pairwise.complete.obs\")"
   ]
  },
  {
   "cell_type": "markdown",
   "metadata": {},
   "source": [
    "The count of Garage Cars is directly proportional to the Garage Area. Garage cars has a high correlation with SalePrice than GarageArea. Hence we drop the variable GarageArea. Similarly we drop GarageFinish. For now I am going to create list of variables that will be dropped and append to this list as I identify more."
   ]
  },
  {
   "cell_type": "code",
   "execution_count": null,
   "metadata": {},
   "outputs": [],
   "source": [
    "drop_vars <- list(\"GarageArea\", \"GarageFinish\")"
   ]
  },
  {
   "cell_type": "markdown",
   "metadata": {},
   "source": [
    "Predictor variable TotalBsmtSF is the cumulative sum of predictor variables BsmtFinSF1,BsmtFinSF2, BsmtUnfSF\n",
    "Correlation between TotalBsmtSF and the other Bsmt SquareFoot variable is 1. Hence dropping the variables BsmtFinSF1,BsmtFinSF2, BsmtUnfSF."
   ]
  },
  {
   "cell_type": "code",
   "execution_count": null,
   "metadata": {
    "collapse": true
   },
   "outputs": [],
   "source": [
    "cor(df$TotalBsmtSF, (df$BsmtFinSF1+df$BsmtFinSF2+df$BsmtUnfSF))\n",
    "cor(df[,c(\"SalePrice\", \"BsmtQual\", \"BsmtCond\", \"BsmtExposure\", \"TotalBsmtSF\", \"BsmtFullBath\")], use=\"pairwise.complete.obs\")\n",
    "drop_vars <- list.append(drop_vars, \"BsmtFinSF1\", \"BsmtFinSF2\", \"BsmtUnfSF\")"
   ]
  },
  {
   "cell_type": "markdown",
   "metadata": {},
   "source": [
    "Decks are usually open and porches either have a roof or are screened. \n",
    "\n",
    "Hence, I am going to consolidate all the porch variables and delete \"OpenPorchSF\", \"EnclosedPorch\", \"X3SsnPorch\", \"ScreenPorch\" variables."
   ]
  },
  {
   "cell_type": "code",
   "execution_count": null,
   "metadata": {
    "collapse": true
   },
   "outputs": [],
   "source": [
    "df$TotalPorchSF <- df$OpenPorchSF + df$EnclosedPorch + df$X3SsnPorch + df$ScreenPorch\n",
    "cor(df[,c(\"SalePrice\", \"TotalPorchSF\", \"WoodDeckSF\")], use=\"pairwise.complete.obs\")\n",
    "plot(df$TotalPorchSF, df$SalePrice)\n",
    "drop_vars <- list.append(drop_vars, \"OpenPorchSF\", \"EnclosedPorch\", \"X3SsnPorch\", \"ScreenPorch\" )\n",
    "head(df$SalePrice)"
   ]
  },
  {
   "cell_type": "markdown",
   "metadata": {},
   "source": [
    "Adding all the porch variables did not seem to increase the correlation with SalePrice"
   ]
  },
  {
   "cell_type": "markdown",
   "metadata": {},
   "source": [
    "GrLivArea is a cumulative sum of X1stFlrSF, X2ndFlrSF, LowQualFinSF and have a correlation of 1 with GrLivArea.\n",
    "Dropping X1stFlrSF, X2ndFlrSF, LowQualFinSF inorder to reduce multi-collinearity effects.\n",
    "\n",
    "I am also going to consolidate the variables GrLivArea and TotalBsmtSF into TotalSF and drop the two variables\n"
   ]
  },
  {
   "cell_type": "code",
   "execution_count": null,
   "metadata": {
    "collapse": true
   },
   "outputs": [],
   "source": [
    "cor(df$GrLivArea, (df$X1stFlrSF+df$X2ndFlrSF+df$LowQualFinSF))\n",
    "df$TotalSF <- df$GrLivArea + df$TotalBsmtSF\n",
    "cor(df[,c(\"SalePrice\", \"GrLivArea\", \"TotalBsmtSF\", \"TotalSF\")], use=\"pairwise.complete.obs\")\n",
    "drop_vars <- list.append(drop_vars, \"X1stFlrSF\", \"X2ndFlrSF\", \"LowQualFinSF\", \"GrLivArea\", \"TotalBsmtSF\")"
   ]
  },
  {
   "cell_type": "markdown",
   "metadata": {},
   "source": [
    "I will not touch the Quality variables since buyers depend on each quality variable first before being satisfied with the overall quality of the house.\n",
    "\n",
    "Next, I am going to consolidate all the bathroom variables since buyers are interested in total bathroom count. I will multiply the half baths with .05 inorder to sum it up correctly. Below correlation clearly indicates that TotalBathRooms variable is a strong predictor than individual predictors. Thus, dropping all the Bath predictor variables and retaining the TotalBathRooms variable."
   ]
  },
  {
   "cell_type": "code",
   "execution_count": null,
   "metadata": {},
   "outputs": [],
   "source": [
    "df$TotalBathRooms <- df$BsmtFullBath +  (df$BsmtHalfBath * 0.5) + df$FullBath + (df$HalfBath * 0.5)\n",
    "cor(df[,c(\"SalePrice\", \"TotalBathRooms\", \"BsmtFullBath\", \"BsmtHalfBath\",  \"FullBath\" ,  \"HalfBath\")], use=\"pairwise.complete.obs\")\n",
    "drop_vars <- list.append(drop_vars, \"BsmtFullBath\", \"BsmtHalfBath\",  \"FullBath\" ,  \"HalfBath\")"
   ]
  },
  {
   "cell_type": "markdown",
   "metadata": {},
   "source": [
    "I am going to take a look at the Room predictor variables. TotRmsAbvGrd is highly correlated with SalePrice, however, above correlation matrix indicates a high correlation with GrLivArea. Since GrLivArea is highly correlated with SalePrice than TotRmsAbvGrd is with SalePrice, we will drop TotRmsAbvGrd variable."
   ]
  },
  {
   "cell_type": "code",
   "execution_count": null,
   "metadata": {},
   "outputs": [],
   "source": [
    "cor(df[,c(\"SalePrice\", \"BedroomAbvGr\",  \"KitchenAbvGr\", \"TotRmsAbvGrd\")], use=\"pairwise.complete.obs\")\n",
    "drop_vars <- list.append(drop_vars, \"TotRmsAbvGrd\")"
   ]
  },
  {
   "cell_type": "markdown",
   "metadata": {},
   "source": [
    "Since buyers are interested in the age of the home. I am going to created a new variable 'Age' and calculate based on the YearBuilt, YrSold and MonthSold variables. I also converted month into year unit by dividing by 12. A plot of Age and SalePrice indicate a negative correlation. Dropping variables \"MoSold\", \"YrSold\", because they have a low positive correlation with \"SalePrice\". Dropping \"YearBuilt\" since it has a high correlation with SalePrice and Age variables. "
   ]
  },
  {
   "cell_type": "code",
   "execution_count": null,
   "metadata": {
    "collapse": true,
    "lines_to_next_cell": 2
   },
   "outputs": [],
   "source": [
    "df$Age <- round(df$YrSold+df$MoSold/12 - df$YearBuilt,2)\n",
    "cor(df[, c(\"SalePrice\", \"Age\", \"MoSold\", \"YrSold\", \"YearBuilt\")],use=\"pairwise.complete.obs\")\n",
    "plot(df$Age, df$SalePrice)\n",
    "hist(df$Age)\n",
    "drop_vars <- list.append(drop_vars, \"MoSold\", \"YrSold\", \"YearBuilt\")\n"
   ]
  },
  {
   "cell_type": "markdown",
   "metadata": {
    "lines_to_next_cell": 0
   },
   "source": [
    "Dropping the variables below and getting a list of numeric and character variables"
   ]
  },
  {
   "cell_type": "code",
   "execution_count": null,
   "metadata": {
    "lines_to_next_cell": 2
   },
   "outputs": [],
   "source": [
    "drop_vars <- unlist(drop_vars)\n",
    "\n",
    "df <- df[!names(df) %in% drop_vars]\n",
    "numeric_cols <- unlist(sapply(df, is.numeric))\n",
    "names(df[,numeric_cols])\n",
    "factor_cols <- unlist(sapply(df, is.factor))\n",
    "names(df[,factor_cols])"
   ]
  },
  {
   "cell_type": "code",
   "execution_count": null,
   "metadata": {
    "hide_input": true,
    "lines_to_next_cell": 2,
    "name": "definition"
   },
   "outputs": [],
   "source": [
    "\n",
    "EDA <- function(df)\n",
    "{\n",
    "  ### Plot Histograms on the canvas####\n",
    "  par(mfrow=c(3,2))\n",
    "  for (i in names(df)){\n",
    "    #print (is.numeric(df[[i]]))\n",
    "    if (is.numeric(df[[i]]))\n",
    "    {\n",
    "      hist(df[[i]], xlab = i, main = paste(\"Histogram of \", i, sep=\" \"))\n",
    "      \n",
    "    }\n",
    "    \n",
    "  }\n",
    "  \n",
    "  ### Plot Boxplots on the canvas####\n",
    "  par(mfrow=c(3,2))\n",
    "  for (i in names(df)){\n",
    "    #print (is.numeric(df[[i]]))\n",
    "    if (is.numeric(df[[i]]))\n",
    "    {\n",
    "      \n",
    "      boxplot(df[[i]], xlab = i, main = paste(\"Box Plot of \", i, sep=\" \"))\n",
    "      \n",
    "      \n",
    "    }\n",
    "    \n",
    "  }\n",
    "  \n",
    "  ### Plot Barplots of Factor variables on the canvas####\n",
    "  par(mfrow=c(3,1))\n",
    "  for (i in names(df)){\n",
    "    #print (is.numeric(df[[i]]))\n",
    "    if (is.factor(df[[i]]))\n",
    "    {\n",
    "      \n",
    "      plot(df[[i]], xlab = i, main = paste(\"Bar Plot of \", i, sep=\" \"))\n",
    "      \n",
    "      \n",
    "    }\n",
    "    \n",
    "  }\n",
    "  \n",
    "#  (lm.fit <- lm(quality~., data=df))\n",
    "  \n",
    "#  data_set <- list(colnames=colnames, rowcount=rowcount, \n",
    " #                  stats=stats, cor=cor, lm = lm.fit, lm.summary = summary(lm.fit), df=df)\n",
    " # return(data_set)\n",
    "}\n"
   ]
  },
  {
   "cell_type": "markdown",
   "metadata": {},
   "source": [
    "## Variable Transformation\n",
    "\n",
    "In the  next step, I am going to \n",
    "\n",
    " 1. Check the skew and kurtosis values of all numeric variables using the describe() function. \n",
    " 2. Histogram of variables\n",
    " 3. Transform the variables based on Skew and Kurtosis values\n",
    " 4. Check Correlations and variable importance again to verify if anything has changed\n",
    " \n",
    "The numeric columns also contain the ordinal variables. I will ignore the ordinal variables and look at the original numeric variables only.\n",
    "\n",
    "Excluding the ordinal integer variables (revalued ordinal character variables), I will focus on the following numeric variables -  \n",
    "\n",
    "\"LotFrontage\", \"LotArea\", \"MasVnrArea\", \"TotalBsmtSF\", \"GrLivArea\", \"BedroomAbvGr\"   \"KitchenAbvGr\", \"Fireplaces\", \"GarageCars\", \"WoodDeckSF\", \"PoolArea\",  \"MiscVal\", \"SalePrice\", \"TotalPorchSF\", \"TotalBathRooms\"\n",
    "\n",
    "All the above variables will be transformed using the YeoJohnson method with the exception of SalePrice. YeoJohnson method handles zero's and negative values. SalePrice will use a logarithmic transformation since submissions are evaluated on Root-Mean-Squared-Error (RMSE) between the logarithm of the predicted value and the logarithm of the observed sales price."
   ]
  },
  {
   "cell_type": "code",
   "execution_count": null,
   "metadata": {
    "collapse": true
   },
   "outputs": [],
   "source": [
    "transform_vars <-  c(\"LotFrontage\", \"LotArea\", \"MasVnrArea\", \"TotalSF\", \"BedroomAbvGr\",   \"KitchenAbvGr\", \"Fireplaces\", \"GarageCars\", \"WoodDeckSF\", \"PoolArea\",  \"MiscVal\", \"TotalPorchSF\", \"TotalBathRooms\", \"Age\")\n",
    "\n",
    "as.data.frame(psych::describe(df[transform_vars]))[, c(\"mean\", \"median\", \"sd\", \"skew\", \"kurtosis\")]\n",
    "\n",
    "#Exploratory data analysis before transformation\n",
    "EDA(df[transform_vars])\n",
    "\n",
    "#Transform variables\n",
    "preprocessParams <- preProcess(df[transform_vars], method=c(\"YeoJohnson\"))\n",
    "preprocessParams\n",
    "preprocessParams$method\n",
    "transformed_df <- predict(preprocessParams, df)\n",
    "\n",
    "hist(df$SalePrice)\n",
    "transformed_df$SalePrice <- log(df$SalePrice)\n",
    "#head(transformed_df)\n",
    "as.data.frame(psych::describe(transformed_df[transform_vars]))[, c(\"mean\", \"median\", \"sd\", \"skew\", \"kurtosis\")]\n",
    "#Exploratory data analysis after transformation\n",
    "EDA(transformed_df[transform_vars])"
   ]
  },
  {
   "cell_type": "code",
   "execution_count": null,
   "metadata": {
    "collapse": true,
    "fig.height": 12,
    "fig.width": 12,
    "lines_to_next_cell": 0
   },
   "outputs": [],
   "source": [
    "#Check variable importance post transformation\n",
    "set.seed(100)\n",
    "#check variable importance using random forests\n",
    "#rf_ranges <- list(ntree=c(500), mtry=5:30)\n",
    "#rf_tune <- tune(randomForest, SalePrice ~ ., data=df[1:1460,], ranges=rf_ranges) \n",
    "#rf_tune$best.parameters\n",
    "#rf_best <- rf_tune$best.model\n",
    "#rf_best\n",
    "names(transformed_df)\n",
    "trans_df_rf <- randomForest(x=transformed_df[1:1460, -63], y=transformed_df$SalePrice[1:1460], ntree=500, importance=TRUE)\n",
    "varImpPlot(trans_df_rf)"
   ]
  },
  {
   "cell_type": "markdown",
   "metadata": {},
   "source": [
    "\n",
    "\n",
    "\n"
   ]
  },
  {
   "cell_type": "code",
   "execution_count": null,
   "metadata": {
    "fig.height": 10,
    "fig.width": 10,
    "lines_to_next_cell": 0
   },
   "outputs": [],
   "source": [
    "trans_df_corr <- round(cor(transformed_df[c(transform_vars, \"SalePrice\")],use=\"pairwise.complete.obs\"),2)\n",
    "trans_cor_sorted <- as.matrix(sort(trans_df_corr[,'SalePrice'], decreasing = TRUE))\n",
    "trans_cor_vars <- names(apply(trans_cor_sorted, 1, function(x) abs(x)>0))\n",
    "corrplot(trans_df_corr[trans_cor_vars,trans_cor_vars], method=\"number\", type=\"upper\", tl.col=\"black\", tl.srt=45)\n",
    "\n",
    "#Scatter plot matrix of variables\n",
    "pairs(~SalePrice+Age+LotFrontage,data=transformed_df, \n",
    "   main=\"Simple Scatterplot Matrix\")\n",
    "\n",
    "pairs(~SalePrice+LotArea+MasVnrArea,data=transformed_df, \n",
    "   main=\"Simple Scatterplot Matrix\")\n",
    "\n",
    "pairs(~SalePrice+TotalSF+BedroomAbvGr,data=transformed_df, \n",
    "   main=\"Simple Scatterplot Matrix\")\n",
    "\n",
    "pairs(~SalePrice+KitchenAbvGr+Fireplaces+GarageCars,data=transformed_df, \n",
    "   main=\"Simple Scatterplot Matrix\")\n",
    "      \n",
    "pairs(~SalePrice+WoodDeckSF+PoolArea,data=transformed_df, \n",
    "   main=\"Simple Scatterplot Matrix\")\n",
    "\n",
    "pairs(~SalePrice+MiscVal+TotalPorchSF+TotalBathRooms,data=transformed_df, \n",
    "   main=\"Simple Scatterplot Matrix\")"
   ]
  },
  {
   "cell_type": "markdown",
   "metadata": {},
   "source": []
  },
  {
   "cell_type": "markdown",
   "metadata": {},
   "source": [
    "##One-Hot Encoding\n",
    "\n",
    "Post transformation I will continue to work with 'transfomed_df' dataset. Now that the numeric variables are transformed. I will encode the nominal variables, in other words the factor variables. Since our dependant variable, SalePrice is an integer and the goal is to predict the SalePrice, we are going to run a regression model for which categorical data for nominal variables must be converted to numeric form. I am going to use the One-Hot encoding.\n",
    "\n",
    "The nominal variables are as below - "
   ]
  },
  {
   "cell_type": "code",
   "execution_count": null,
   "metadata": {
    "collapse": true,
    "hide_input": false
   },
   "outputs": [],
   "source": [
    "factor_cols <- unlist(sapply(transformed_df, is.factor))\n",
    "factor_names <- names(transformed_df[,factor_cols])\n"
   ]
  },
  {
   "cell_type": "code",
   "execution_count": null,
   "metadata": {
    "collapse": true
   },
   "outputs": [],
   "source": [
    "\n",
    "# Use dummyVars function in Caret package for One-hot encoding\n",
    "dummy <- dummyVars(\" ~ .\", data = transformed_df[factor_names])\n",
    "df_trans <- data.frame(predict(dummy, newdata = transformed_df))\n",
    "factors_names <- unlist(factor_names)\n",
    "transformed_df <- cbind(transformed_df, df_trans)\n",
    "transformed_df <- transformed_df[!names(transformed_df) %in% factor_names]\n",
    "\n",
    "#dropping the original nominal variables after transformation\n"
   ]
  },
  {
   "cell_type": "markdown",
   "metadata": {},
   "source": [
    "I could extend the EDA to identifying the near zero variance, elimiating outliers. However, I am going to stop the EDA and move forward with the regression models."
   ]
  },
  {
   "cell_type": "markdown",
   "metadata": {},
   "source": [
    "## Graphical Analysis {.tabset}"
   ]
  },
  {
   "cell_type": "code",
   "execution_count": null,
   "metadata": {
    "hide_input": true
   },
   "outputs": [],
   "source": [
    "\n",
    "garage_vars <- names(transformed_df[which(names(transformed_df) %like% \"%Garage%\")])\n",
    "basement_vars <- names(transformed_df[which(names(transformed_df) %like% \"%Bsmt%\")])\n",
    "pool_vars <- names(transformed_df[which(names(transformed_df) %like% \"%Pool%\")])\n",
    "\n",
    "porch_vars <- names(transformed_df[which(names(transformed_df) %like% c(\"%Porch%\", \"%Deck%\"))])\n",
    "\n",
    "sale_vars <- names(transformed_df[which(names(transformed_df) %like% c(\"%Sale%\", \"%Sold\"))])\n",
    "\n",
    "lot_vars <- names(transformed_df[which(names(transformed_df) %like% c(\"%Lot%\", \"%Land%\"))])\n",
    "\n",
    "dwelling_vars <- names(transformed_df[which(names(transformed_df) %like% c(\"%SubClass%\", \"%Bldg%\", \"%HouseStyle%\", \"%Overall%\", \"%Year%\"))])\n",
    "\n",
    "exterior_vars <- names(transformed_df[which(names(transformed_df) %like% c(\"%Exter%\", \"%Roof%\", \"%MasVnr%\", \"%Foundation%\", \"%Street%\", \"%Alley%\", \"%PavedDrive%\", \"%Fence%\"))])\n",
    "\n",
    "utility_vars <- names(transformed_df[which(names(transformed_df) %like% c(\"%Heat%\", \"%Utilities%\", \"%Central%\", \"%Electrical%\"))])\n",
    "\n",
    "interior_vars <- names(transformed_df[which(names(transformed_df) %like% c(\"%Room%\", \"FullBath%\", \"HalfBath%\", \"%Kitchen%\", \"%Fire%\", \"%AbvGr%\", \"%Functional%\", \"%FlrSF%\", \"%LowQualFinSF%\", \"%TotalSF%\"))])\n",
    "\n",
    "misc_vars <- names(transformed_df[which(names(transformed_df) %like% c(\"%Misc%\"))])\n",
    "\n",
    "zoning_vars <- names(transformed_df[which(names(transformed_df) %like% c(\"%Zoning%\"))])\n",
    "\n",
    "neighborhood_vars <- names(transformed_df[which(names(transformed_df) %like% c(\"%Neighborhood%\", \"Condition%\"))])\n",
    "\n",
    "\n",
    "vars_list = list(garage_vars, basement_vars, pool_vars, porch_vars, sale_vars, lot_vars, \n",
    "                 dwelling_vars, exterior_vars, utility_vars, interior_vars, misc_vars, \n",
    "                 zoning_vars, neighborhood_vars)\n",
    "\n",
    "df_var <- as.data.frame(do.call(cbind.fill, c(vars_list, fill = NA)))\n",
    "colnames(df_var) <-  c(\"GarageVars\", \"BasementVars\", \"PoolVars\", \"PorchVars\", \"SaleVars\", \"LotVars\",\n",
    "                        \"DwellingVars\", \"ExteriorVars\", \"UtilityVars\", \"InteriorVars\", \"MiscVars\", \n",
    "                        \"ZoningVars\", \"NeighborhoodVars\")\n",
    "#df_var\n",
    "\n",
    "#Show the  missing value counts with their column names\n",
    "#NAcol <- which(colSums(is.na(df)) > 0)\n",
    "#df_NA <- sort(colSums(sapply(df[NAcol], is.na)), decreasing = TRUE)\n",
    "#df_NA\n"
   ]
  },
  {
   "cell_type": "markdown",
   "metadata": {},
   "source": [
    "### Garage Variables"
   ]
  },
  {
   "cell_type": "code",
   "execution_count": null,
   "metadata": {
    "collapse": true
   },
   "outputs": [],
   "source": [
    "## Quick summary ##\n",
    "#List of garage variables after feature engineering\n",
    "garage_vars <- setdiff(garage_vars, drop_vars)\n",
    "as.data.frame(psych::describe(transformed_df[garage_vars]))[, c(\"mean\", \"median\", \"sd\", \"skew\", \"kurtosis\")]\n",
    "head(transformed_df[garage_vars])\n",
    "EDA(transformed_df[garage_vars])\n"
   ]
  },
  {
   "cell_type": "markdown",
   "metadata": {},
   "source": [
    "### Basement Variables"
   ]
  },
  {
   "cell_type": "code",
   "execution_count": null,
   "metadata": {
    "collapse": true
   },
   "outputs": [],
   "source": [
    " ## Quick summary ##\n",
    "basement_vars <- setdiff(basement_vars, drop_vars)\n",
    "as.data.frame(psych::describe(transformed_df[basement_vars]))[, c(\"mean\", \"median\", \"sd\", \"skew\", \"kurtosis\")]\n",
    "head(transformed_df[basement_vars])\n",
    "EDA(transformed_df[basement_vars])"
   ]
  },
  {
   "cell_type": "markdown",
   "metadata": {},
   "source": [
    "### Pool Variables"
   ]
  },
  {
   "cell_type": "code",
   "execution_count": null,
   "metadata": {
    "collapse": true
   },
   "outputs": [],
   "source": [
    " ## Quick summary ##\n",
    "pool_vars <- setdiff(pool_vars, drop_vars)\n",
    "as.data.frame(psych::describe(transformed_df[pool_vars]))[, c(\"mean\", \"median\", \"sd\", \"skew\", \"kurtosis\")]\n",
    "head(transformed_df[pool_vars])\n",
    "EDA(transformed_df[pool_vars])"
   ]
  },
  {
   "cell_type": "markdown",
   "metadata": {},
   "source": [
    "### Porch Variables"
   ]
  },
  {
   "cell_type": "code",
   "execution_count": null,
   "metadata": {
    "collapse": true
   },
   "outputs": [],
   "source": [
    " ## Quick summary ##\n",
    "porch_vars <- setdiff(porch_vars, drop_vars)\n",
    "as.data.frame(psych::describe(transformed_df[porch_vars]))[, c(\"mean\", \"median\", \"sd\", \"skew\", \"kurtosis\")]\n",
    "head(transformed_df[porch_vars])\n",
    "EDA(transformed_df[porch_vars])"
   ]
  },
  {
   "cell_type": "markdown",
   "metadata": {},
   "source": [
    "### Sale Variables"
   ]
  },
  {
   "cell_type": "code",
   "execution_count": null,
   "metadata": {
    "collapse": true
   },
   "outputs": [],
   "source": [
    " ## Quick summary ##\n",
    "sale_vars <- setdiff(sale_vars, drop_vars)\n",
    "as.data.frame(psych::describe(transformed_df[sale_vars]))[, c(\"mean\", \"median\", \"sd\", \"skew\", \"kurtosis\")]\n",
    "head(transformed_df[sale_vars])\n",
    "EDA(transformed_df[sale_vars])"
   ]
  },
  {
   "cell_type": "markdown",
   "metadata": {},
   "source": [
    "### Lot and Land Variables"
   ]
  },
  {
   "cell_type": "code",
   "execution_count": null,
   "metadata": {
    "collapse": true
   },
   "outputs": [],
   "source": [
    "## Quick summary ##\n",
    "lot_vars <- setdiff(lot_vars, drop_vars)\n",
    "as.data.frame(psych::describe(transformed_df[lot_vars]))[, c(\"mean\", \"median\", \"sd\", \"skew\", \"kurtosis\")]\n",
    "head(transformed_df[lot_vars])\n",
    "EDA(transformed_df[lot_vars])"
   ]
  },
  {
   "cell_type": "markdown",
   "metadata": {},
   "source": [
    "### Dwelling Variables"
   ]
  },
  {
   "cell_type": "code",
   "execution_count": null,
   "metadata": {
    "collapse": true
   },
   "outputs": [],
   "source": [
    "## Quick summary ##\n",
    "dwelling_vars <- setdiff(dwelling_vars, drop_vars)\n",
    "as.data.frame(psych::describe(transformed_df[dwelling_vars]))[, c(\"mean\", \"median\", \"sd\", \"skew\", \"kurtosis\")]\n",
    "head(transformed_df[dwelling_vars])\n",
    "EDA(transformed_df[dwelling_vars])"
   ]
  },
  {
   "cell_type": "markdown",
   "metadata": {},
   "source": [
    "### Exterior Features"
   ]
  },
  {
   "cell_type": "code",
   "execution_count": null,
   "metadata": {
    "collapse": true
   },
   "outputs": [],
   "source": [
    " ## Quick summary ##\n",
    "exterior_vars <- setdiff(exterior_vars, drop_vars)\n",
    "as.data.frame(psych::describe(transformed_df[exterior_vars]))[, c(\"mean\", \"median\", \"sd\", \"skew\", \"kurtosis\")]\n",
    "head(transformed_df[exterior_vars])\n",
    "EDA(transformed_df[exterior_vars])"
   ]
  },
  {
   "cell_type": "markdown",
   "metadata": {},
   "source": [
    "### Utility Variables"
   ]
  },
  {
   "cell_type": "code",
   "execution_count": null,
   "metadata": {
    "collapse": true
   },
   "outputs": [],
   "source": [
    "## Quick summary ##\n",
    "utility_vars <- setdiff(utility_vars, drop_vars)\n",
    "as.data.frame(psych::describe(transformed_df[utility_vars]))[, c(\"mean\", \"median\", \"sd\", \"skew\", \"kurtosis\")]\n",
    "head(transformed_df[utility_vars])\n",
    "EDA(transformed_df[utility_vars])"
   ]
  },
  {
   "cell_type": "markdown",
   "metadata": {},
   "source": [
    "### Interior Features"
   ]
  },
  {
   "cell_type": "code",
   "execution_count": null,
   "metadata": {
    "collapse": true
   },
   "outputs": [],
   "source": [
    " ## Quick summary ##\n",
    "interior_vars <- setdiff(interior_vars, drop_vars)\n",
    "as.data.frame(psych::describe(transformed_df[interior_vars]))[, c(\"mean\", \"median\", \"sd\", \"skew\", \"kurtosis\")]\n",
    "head(transformed_df[interior_vars])\n",
    "EDA(transformed_df[interior_vars])"
   ]
  },
  {
   "cell_type": "markdown",
   "metadata": {},
   "source": [
    "### Miscellaneous Variables"
   ]
  },
  {
   "cell_type": "code",
   "execution_count": null,
   "metadata": {
    "collapse": true
   },
   "outputs": [],
   "source": [
    "mmisc_vars <- setdiff(misc_vars, drop_vars)\n",
    "## Quick summary ##\n",
    "as.data.frame(psych::describe(transformed_df[misc_vars]))[, c(\"mean\", \"median\", \"sd\", \"skew\", \"kurtosis\")]\n",
    "head(transformed_df[misc_vars])\n",
    "EDA(transformed_df[misc_vars])"
   ]
  },
  {
   "cell_type": "markdown",
   "metadata": {},
   "source": [
    "### Zoning Variables"
   ]
  },
  {
   "cell_type": "code",
   "execution_count": null,
   "metadata": {
    "collapse": true
   },
   "outputs": [],
   "source": [
    "## Quick summary ##\n",
    "zoning_vars <- setdiff(zoning_vars, drop_vars)\n",
    "as.data.frame(psych::describe(transformed_df[zoning_vars]))[, c(\"mean\", \"median\", \"sd\", \"skew\", \"kurtosis\")]\n",
    "head(transformed_df[zoning_vars])\n",
    "EDA(transformed_df[zoning_vars])"
   ]
  },
  {
   "cell_type": "markdown",
   "metadata": {},
   "source": [
    "### Community and Neighborhood Variables"
   ]
  },
  {
   "cell_type": "code",
   "execution_count": null,
   "metadata": {
    "collapse": true,
    "lines_to_next_cell": 2
   },
   "outputs": [],
   "source": [
    "## Quick summary ##\n",
    "neighborhood_vars <- setdiff(neighborhood_vars, drop_vars)\n",
    "as.data.frame(psych::describe(transformed_df[neighborhood_vars]))[, c(\"mean\", \"median\", \"sd\", \"skew\", \"kurtosis\")]\n",
    "head(transformed_df[neighborhood_vars])\n",
    "EDA(transformed_df[neighborhood_vars])"
   ]
  },
  {
   "cell_type": "code",
   "execution_count": null,
   "metadata": {},
   "outputs": [],
   "source": [
    "##From CARET package\n",
    "#fit_glm <= glm(transformed_df~., family=\"\")\n",
    "#varImp(fit_glm)\n",
    "\n",
    "#A correaltion between the garage variables and\n",
    "### Get a historgram of factor variables\n",
    "### Identify most impact variables"
   ]
  }
 ],
 "metadata": {
  "jupytext": {
   "cell_metadata_filter": "name,comments,hide_input,fig.height,message,warning,collapse,hide_output,comment,fig.width,-all",
   "main_language": "R",
   "notebook_metadata_filter": "-all"
  }
 },
 "nbformat": 4,
 "nbformat_minor": 2
}
